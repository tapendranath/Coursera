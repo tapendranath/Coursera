{
    "cells": [
        {
            "cell_type": "markdown",
            "metadata": {},
            "source": "# Title: Final Capstone Project Business requirement and data analysis\n\n### Background: \nA financial firm is looking for a location to set up office in Toronto. The firm is in business of personal loans, home loans and similar type of loans. Firm is looking for location where it can find maximum number of people requiring loans.\n\n### Problem: \nThe firm needs to find an office, which is convenient to majority of the people who are looking for the similar kind of loans. Such type of loans are usually needed by following type \n\u2022\tOffice employees \u2013 looking for personal loan, home loan \n\u2022\tPeople working in restaurants and cafe \u2013 looking for personal loan, home loan\n\u2022\tStudents \u2013 looking for higher studies loan\nFinancial firm needs to choose the correct location to start its first venture in Toronto. If this is successful, they can replicate the same in other locations. First move is very important; thereby choice of location is very important.\n\n### Data: \nThe solution to the above problem will be worked out in two phases. \nPhase 1: Find the locations having office, caf\u00e9, restaurants and schools in Toronto and identify them visually on a map. The foursquare API will be used to find the locations. In the request, we will pass following parameters in section: restaurants, offices and schools. To simplify the problem, we will only use the geographic location to cluster the cafes.\nPhase 2: Create \"clusters\" of the above locations to identify potential places to choose. Financial firm can then decide to choose one or more than one of the suggested locations to start business in Toronto.\n\n### Methodology and Solution: \nThe clusters where we have schools, restaurants, cafe and offices are the best place for the financial firms to choose its office as most of the potential clients of the firm are located or come to these locations on regular basis. The office location will be convenient to reach for the peoples coming to these places and take the loans as per their requirement. It would help people, as they do not have to travel outside of work areas. The firm would have higher turn around ratio and can set targeted advertisements in these area, it will reduce the advertisement spend over larger area and will result in more focused spend of advertisement in smaller area/cluster. This will be best location for financial firm to setup its office.\n"
        },
        {
            "cell_type": "code",
            "execution_count": null,
            "metadata": {},
            "outputs": [],
            "source": ""
        }
    ],
    "metadata": {
        "celltoolbar": "Raw Cell Format",
        "kernelspec": {
            "display_name": "Python 3.6",
            "language": "python",
            "name": "python3"
        },
        "language_info": {
            "codemirror_mode": {
                "name": "ipython",
                "version": 3
            },
            "file_extension": ".py",
            "mimetype": "text/x-python",
            "name": "python",
            "nbconvert_exporter": "python",
            "pygments_lexer": "ipython3",
            "version": "3.6.9"
        }
    },
    "nbformat": 4,
    "nbformat_minor": 1
}